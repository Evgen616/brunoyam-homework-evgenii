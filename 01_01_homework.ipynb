{
 "cells": [
  {
   "cell_type": "markdown",
   "id": "5405d889",
   "metadata": {},
   "source": [
    "Модуль 1 Часть 1"
   ]
  },
  {
   "cell_type": "markdown",
   "id": "2f8a0151",
   "metadata": {},
   "source": [
    "Уровень 1\n",
    "Вывести в консоль (через функцию print) значение выражения:\n",
    "5 +\n",
    "7 ∗ 5\n",
    "8\n",
    "3\n",
    "5\n",
    "в формате:\n",
    "значение выражения: 𝑣𝑎𝑙𝑢𝑒\n",
    "где 𝑣𝑎𝑙𝑢𝑒 – полученный результат."
   ]
  },
  {
   "cell_type": "code",
   "execution_count": 23,
   "id": "b43f2b7b",
   "metadata": {
    "scrolled": false
   },
   "outputs": [
    {
     "name": "stdout",
     "output_type": "stream",
     "text": [
      "0.038580246913580245\n"
     ]
    }
   ],
   "source": [
    "value = (5+7*5/8)/3**5\n",
    "print(value)"
   ]
  },
  {
   "cell_type": "markdown",
   "id": "4ae5287f",
   "metadata": {},
   "source": [
    "Уровень 2 \n",
    "Длина Московской кольцевой автомобильной дороги – 109 километров. Байкер Вася\n",
    "стартует с нулевого километра МКАД и едет со скоростью 𝑣 километров в час. На какой\n",
    "отметке он остановится через 𝑡 часов? Значения скорости и времени считаются целыми\n",
    "числами."
   ]
  },
  {
   "cell_type": "code",
   "execution_count": 25,
   "id": "ae137d94",
   "metadata": {},
   "outputs": [
    {
     "name": "stdout",
     "output_type": "stream",
     "text": [
      "Введите скорость:46\n",
      "Введите время в пути:4\n",
      "Отметка 75\n"
     ]
    }
   ],
   "source": [
    "speed = int(input('Введите скорость:'))\n",
    "time = int(input('Введите время в пути:'))\n",
    "value = speed * time\n",
    "if value < 109 :\n",
    "    print('Отметка', value)\n",
    "if value > 109 :\n",
    "    print('Отметка', value % 109)"
   ]
  },
  {
   "cell_type": "markdown",
   "id": "9fe0d490",
   "metadata": {},
   "source": [
    "Уровень 3\n",
    "На вход подаются 2 числа. Числа могут быть как целые, так и вещественные. Сравните их\n",
    "значения и найдите наибольшее. Помните, что результатом сравнения является True или\n",
    "False (тип bool). При этом True эквивалентно 1, а False 0 при умножении."
   ]
  },
  {
   "cell_type": "code",
   "execution_count": 28,
   "id": "f60d700e",
   "metadata": {},
   "outputs": [
    {
     "name": "stdout",
     "output_type": "stream",
     "text": [
      "Введите число 1:6\n",
      "Введите число 2:-3\n",
      "6.0\n"
     ]
    }
   ],
   "source": [
    "## Решение с условной конструкцией\n",
    "x = float(input('Введите число 1:'))\n",
    "y = float(input('Введите число 2:'))\n",
    "if x > y :\n",
    "    print(x)\n",
    "else :\n",
    "    print(y)"
   ]
  },
  {
   "cell_type": "code",
   "execution_count": 30,
   "id": "456d62ad",
   "metadata": {},
   "outputs": [
    {
     "name": "stdout",
     "output_type": "stream",
     "text": [
      "Введите число 1:124.2\n",
      "Введите число 2:-2\n",
      "Max 124.2\n"
     ]
    }
   ],
   "source": [
    "## Решение с bool\n",
    "x = float(input('Введите число 1:'))\n",
    "y = float(input('Введите число 2:'))\n",
    "max = (x > y) * x + (y >= x) * y\n",
    "print('Max', max)"
   ]
  }
 ],
 "metadata": {
  "kernelspec": {
   "display_name": "Python 3 (ipykernel)",
   "language": "python",
   "name": "python3"
  },
  "language_info": {
   "codemirror_mode": {
    "name": "ipython",
    "version": 3
   },
   "file_extension": ".py",
   "mimetype": "text/x-python",
   "name": "python",
   "nbconvert_exporter": "python",
   "pygments_lexer": "ipython3",
   "version": "3.9.12"
  }
 },
 "nbformat": 4,
 "nbformat_minor": 5
}
