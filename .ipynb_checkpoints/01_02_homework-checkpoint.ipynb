{
 "cells": [
  {
   "cell_type": "markdown",
   "id": "92f2abe1",
   "metadata": {},
   "source": [
    "Задача 1:\n",
    "Даны три целых числа. Определите, сколько среди них совпадающих. \n",
    "Программа должна вывести одно из чисел: 3 (если все совпадают), \n",
    "2 (если два совпадает) или 0 (если все числа различны)"
   ]
  },
  {
   "cell_type": "code",
   "execution_count": 1,
   "id": "4700138c",
   "metadata": {
    "scrolled": true
   },
   "outputs": [
    {
     "name": "stdout",
     "output_type": "stream",
     "text": [
      "Введите целое число:3\n",
      "Введите целое число:2\n",
      "Введите целое число:2\n",
      "Result 2\n"
     ]
    }
   ],
   "source": [
    "x = int(input('Введите целое число:'))\n",
    "y = int(input('Введите целое число:'))\n",
    "z = int(input('Введите целое число:'))\n",
    "result = (x == y) * 1 + (y == z) * 1 + (z == x) * 1\n",
    "if result == 3 :\n",
    "    print('Result', result)\n",
    "elif result == 1 :\n",
    "    print('Result', result + 1)\n",
    "else:\n",
    "    print('Result', result)"
   ]
  },
  {
   "cell_type": "markdown",
   "id": "8299b85a",
   "metadata": {},
   "source": [
    "Задача 2: \n",
    "Шахматная ладья ходит по горизонтали и вертикали. Даны две различные клетки шахматной доски. Определите, может ли ладья попасть с первой клетки на вторую одним ходом.\n",
    "\n",
    "Входные данные: \n",
    "Программа получает на вход четыре числа от 1 до 8 каждое, задающие номер столбца и номер строки сначала первой клетки, потом второй клетки.\n",
    "\n",
    "Выходные данные: \n",
    "Программа должна вывести YES, если из первой клетки хордом ладьи можно попасть во вторую или NO в противном случае.\n"
   ]
  },
  {
   "cell_type": "code",
   "execution_count": 4,
   "id": "87587c4f",
   "metadata": {},
   "outputs": [
    {
     "name": "stdout",
     "output_type": "stream",
     "text": [
      "Введите координату клетки 1 по горизонтали:6\n",
      "Введите координату клетки 1 по вертикали:7\n",
      "Введите координату клетки 2 по горизонтали:6\n",
      "Введите координату клетки 2 по вертикал:2\n",
      "Result: YES\n"
     ]
    }
   ],
   "source": [
    "x1 = int(input('Введите координату клетки 1 по горизонтали:'))\n",
    "y1 = int(input('Введите координату клетки 1 по вертикали:'))\n",
    "x2 = int(input('Введите координату клетки 2 по горизонтали:'))\n",
    "y2 = int(input('Введите координату клетки 2 по вертикал:'))\n",
    "if x1 == x2 or y1 == y2 :\n",
    "    print('Result: YES')\n",
    "else :\n",
    "    print('Result: NO')"
   ]
  },
  {
   "cell_type": "markdown",
   "id": "5514a4cb",
   "metadata": {},
   "source": [
    "Задача 3:\n",
    "Пусть пользователь придумывает пароль и вводит его с клавиатуры. Допустимым считается пароль, который состоит более чем из 8 символов и включает как прописные, так и заглавные буквы. Используя цикл while дождитесь, пока пользователь введёт допустимый пароль.\n",
    "\n",
    "Длину строки можно считать с помощью функции len()"
   ]
  },
  {
   "cell_type": "code",
   "execution_count": 10,
   "id": "879f1667",
   "metadata": {},
   "outputs": [
    {
     "ename": "SyntaxError",
     "evalue": "invalid syntax (1285701148.py, line 3)",
     "output_type": "error",
     "traceback": [
      "\u001b[1;36m  Input \u001b[1;32mIn [10]\u001b[1;36m\u001b[0m\n\u001b[1;33m    if (password.isupper()) + (password.islower()) and len(password) == 8\u001b[0m\n\u001b[1;37m                                                                         ^\u001b[0m\n\u001b[1;31mSyntaxError\u001b[0m\u001b[1;31m:\u001b[0m invalid syntax\n"
     ]
    }
   ],
   "source": [
    "password = str(input('Введите пароль из восьми символов:'))\n",
    "if (password.isupper()) + (password.islower()) and len(password) == 8\n",
    "    print('correct password')\n",
    "while :\n",
    "    print('insert correct password')"
   ]
  },
  {
   "cell_type": "code",
   "execution_count": null,
   "id": "466884ef",
   "metadata": {},
   "outputs": [],
   "source": []
  }
 ],
 "metadata": {
  "kernelspec": {
   "display_name": "Python 3 (ipykernel)",
   "language": "python",
   "name": "python3"
  },
  "language_info": {
   "codemirror_mode": {
    "name": "ipython",
    "version": 3
   },
   "file_extension": ".py",
   "mimetype": "text/x-python",
   "name": "python",
   "nbconvert_exporter": "python",
   "pygments_lexer": "ipython3",
   "version": "3.9.12"
  }
 },
 "nbformat": 4,
 "nbformat_minor": 5
}
