{
 "cells": [
  {
   "cell_type": "code",
   "execution_count": 1,
   "id": "c1e679d9",
   "metadata": {},
   "outputs": [],
   "source": [
    "## Education and training"
   ]
  },
  {
   "cell_type": "code",
   "execution_count": 2,
   "id": "ee280b41",
   "metadata": {},
   "outputs": [
    {
     "data": {
      "text/plain": [
       "3"
      ]
     },
     "execution_count": 2,
     "metadata": {},
     "output_type": "execute_result"
    }
   ],
   "source": [
    "1+2"
   ]
  },
  {
   "cell_type": "code",
   "execution_count": 3,
   "id": "63855c24",
   "metadata": {},
   "outputs": [
    {
     "name": "stdout",
     "output_type": "stream",
     "text": [
      "hello world\n"
     ]
    }
   ],
   "source": [
    "print('hello world')"
   ]
  },
  {
   "cell_type": "code",
   "execution_count": 4,
   "id": "9c72b402",
   "metadata": {},
   "outputs": [
    {
     "name": "stdout",
     "output_type": "stream",
     "text": [
      "hello world\n"
     ]
    }
   ],
   "source": [
    "print(\"hello world\")"
   ]
  },
  {
   "cell_type": "code",
   "execution_count": 5,
   "id": "371bfa4f",
   "metadata": {},
   "outputs": [
    {
     "name": "stdout",
     "output_type": "stream",
     "text": [
      "table and chair\n"
     ]
    }
   ],
   "source": [
    "print(\"table and chair\")"
   ]
  },
  {
   "cell_type": "code",
   "execution_count": 6,
   "id": "6a97e4a0",
   "metadata": {},
   "outputs": [
    {
     "name": "stdout",
     "output_type": "stream",
     "text": [
      "Hello, World\n"
     ]
    }
   ],
   "source": [
    "print(\"Hello, World\")"
   ]
  },
  {
   "cell_type": "code",
   "execution_count": 7,
   "id": "6eff18bc",
   "metadata": {},
   "outputs": [
    {
     "data": {
      "text/plain": [
       "int"
      ]
     },
     "execution_count": 7,
     "metadata": {},
     "output_type": "execute_result"
    }
   ],
   "source": [
    "type(1)"
   ]
  },
  {
   "cell_type": "code",
   "execution_count": 8,
   "id": "d170abcc",
   "metadata": {},
   "outputs": [
    {
     "data": {
      "text/plain": [
       "float"
      ]
     },
     "execution_count": 8,
     "metadata": {},
     "output_type": "execute_result"
    }
   ],
   "source": [
    "type(1.3)"
   ]
  },
  {
   "cell_type": "code",
   "execution_count": 9,
   "id": "99949e9f",
   "metadata": {},
   "outputs": [
    {
     "data": {
      "text/plain": [
       "str"
      ]
     },
     "execution_count": 9,
     "metadata": {},
     "output_type": "execute_result"
    }
   ],
   "source": [
    "type('sdfcsdv')"
   ]
  },
  {
   "cell_type": "code",
   "execution_count": 10,
   "id": "3bf0d651",
   "metadata": {},
   "outputs": [
    {
     "data": {
      "text/plain": [
       "bool"
      ]
     },
     "execution_count": 10,
     "metadata": {},
     "output_type": "execute_result"
    }
   ],
   "source": [
    "type(1<0)"
   ]
  },
  {
   "cell_type": "code",
   "execution_count": 11,
   "id": "381bcf56",
   "metadata": {},
   "outputs": [
    {
     "data": {
      "text/plain": [
       "False"
      ]
     },
     "execution_count": 11,
     "metadata": {},
     "output_type": "execute_result"
    }
   ],
   "source": [
    "1<0"
   ]
  },
  {
   "cell_type": "code",
   "execution_count": 12,
   "id": "e0fc2466",
   "metadata": {},
   "outputs": [
    {
     "data": {
      "text/plain": [
       "10.0"
      ]
     },
     "execution_count": 12,
     "metadata": {},
     "output_type": "execute_result"
    }
   ],
   "source": [
    "float(10)"
   ]
  },
  {
   "cell_type": "code",
   "execution_count": 13,
   "id": "5ab7e84e",
   "metadata": {},
   "outputs": [
    {
     "data": {
      "text/plain": [
       "'10'"
      ]
     },
     "execution_count": 13,
     "metadata": {},
     "output_type": "execute_result"
    }
   ],
   "source": [
    "str('10')"
   ]
  },
  {
   "cell_type": "code",
   "execution_count": 14,
   "id": "e27c76bc",
   "metadata": {},
   "outputs": [
    {
     "data": {
      "text/plain": [
       "111"
      ]
     },
     "execution_count": 14,
     "metadata": {},
     "output_type": "execute_result"
    }
   ],
   "source": [
    "int('111')"
   ]
  },
  {
   "cell_type": "code",
   "execution_count": 15,
   "id": "b38b5df6",
   "metadata": {},
   "outputs": [
    {
     "data": {
      "text/plain": [
       "int"
      ]
     },
     "execution_count": 15,
     "metadata": {},
     "output_type": "execute_result"
    }
   ],
   "source": [
    "type(int('111'))"
   ]
  },
  {
   "cell_type": "code",
   "execution_count": 16,
   "id": "9a2affec",
   "metadata": {},
   "outputs": [
    {
     "data": {
      "text/plain": [
       "10.2"
      ]
     },
     "execution_count": 16,
     "metadata": {},
     "output_type": "execute_result"
    }
   ],
   "source": [
    "float('10.2')"
   ]
  },
  {
   "cell_type": "code",
   "execution_count": 17,
   "id": "3bf588d7",
   "metadata": {},
   "outputs": [
    {
     "data": {
      "text/plain": [
       "1"
      ]
     },
     "execution_count": 17,
     "metadata": {},
     "output_type": "execute_result"
    }
   ],
   "source": [
    "int(True)"
   ]
  },
  {
   "cell_type": "code",
   "execution_count": 18,
   "id": "42e8919f",
   "metadata": {},
   "outputs": [
    {
     "data": {
      "text/plain": [
       "0"
      ]
     },
     "execution_count": 18,
     "metadata": {},
     "output_type": "execute_result"
    }
   ],
   "source": [
    "int(False)"
   ]
  },
  {
   "cell_type": "code",
   "execution_count": 19,
   "id": "9dcc942f",
   "metadata": {},
   "outputs": [
    {
     "data": {
      "text/plain": [
       "27"
      ]
     },
     "execution_count": 19,
     "metadata": {},
     "output_type": "execute_result"
    }
   ],
   "source": [
    "3**3"
   ]
  },
  {
   "cell_type": "code",
   "execution_count": 20,
   "id": "34523f27",
   "metadata": {},
   "outputs": [
    {
     "data": {
      "text/plain": [
       "12662273"
      ]
     },
     "execution_count": 20,
     "metadata": {},
     "output_type": "execute_result"
    }
   ],
   "source": [
    "25324546//2"
   ]
  },
  {
   "cell_type": "code",
   "execution_count": 21,
   "id": "7b983b39",
   "metadata": {},
   "outputs": [
    {
     "data": {
      "text/plain": [
       "3"
      ]
     },
     "execution_count": 21,
     "metadata": {},
     "output_type": "execute_result"
    }
   ],
   "source": [
    "25324546%17"
   ]
  },
  {
   "cell_type": "code",
   "execution_count": 22,
   "id": "4af3cfd9",
   "metadata": {},
   "outputs": [
    {
     "data": {
      "text/plain": [
       "'hello world'"
      ]
     },
     "execution_count": 22,
     "metadata": {},
     "output_type": "execute_result"
    }
   ],
   "source": [
    "'hello' + ' world'"
   ]
  },
  {
   "cell_type": "code",
   "execution_count": 23,
   "id": "222b8cf5",
   "metadata": {},
   "outputs": [
    {
     "data": {
      "text/plain": [
       "'hellohellohellohellohello'"
      ]
     },
     "execution_count": 23,
     "metadata": {},
     "output_type": "execute_result"
    }
   ],
   "source": [
    "'hello'*5"
   ]
  },
  {
   "cell_type": "code",
   "execution_count": 24,
   "id": "02c2a702",
   "metadata": {},
   "outputs": [
    {
     "data": {
      "text/plain": [
       "False"
      ]
     },
     "execution_count": 24,
     "metadata": {},
     "output_type": "execute_result"
    }
   ],
   "source": [
    "5 != 5"
   ]
  },
  {
   "cell_type": "code",
   "execution_count": 25,
   "id": "62a09153",
   "metadata": {},
   "outputs": [
    {
     "data": {
      "text/plain": [
       "True"
      ]
     },
     "execution_count": 25,
     "metadata": {},
     "output_type": "execute_result"
    }
   ],
   "source": [
    "x = 7\n",
    "y = 54\n",
    "y < 60 and x > 3"
   ]
  },
  {
   "cell_type": "code",
   "execution_count": 26,
   "id": "ec742984",
   "metadata": {},
   "outputs": [
    {
     "data": {
      "text/plain": [
       "True"
      ]
     },
     "execution_count": 26,
     "metadata": {},
     "output_type": "execute_result"
    }
   ],
   "source": [
    "x = 7\n",
    "y = 54\n",
    "y < 60 or x > 9"
   ]
  },
  {
   "cell_type": "code",
   "execution_count": 27,
   "id": "6c04a81d",
   "metadata": {},
   "outputs": [
    {
     "data": {
      "text/plain": [
       "False"
      ]
     },
     "execution_count": 27,
     "metadata": {},
     "output_type": "execute_result"
    }
   ],
   "source": [
    "not 5>3"
   ]
  },
  {
   "cell_type": "code",
   "execution_count": 28,
   "id": "e159bb37",
   "metadata": {},
   "outputs": [
    {
     "data": {
      "text/plain": [
       "5"
      ]
     },
     "execution_count": 28,
     "metadata": {},
     "output_type": "execute_result"
    }
   ],
   "source": [
    "1+2*2"
   ]
  },
  {
   "cell_type": "code",
   "execution_count": 29,
   "id": "8fa2dd94",
   "metadata": {},
   "outputs": [
    {
     "data": {
      "text/plain": [
       "6"
      ]
     },
     "execution_count": 29,
     "metadata": {},
     "output_type": "execute_result"
    }
   ],
   "source": [
    "(1+1)*3"
   ]
  },
  {
   "cell_type": "code",
   "execution_count": 30,
   "id": "ae241e4e",
   "metadata": {},
   "outputs": [
    {
     "name": "stdout",
     "output_type": "stream",
     "text": [
      "54\n"
     ]
    }
   ],
   "source": [
    "r4 = 54\n",
    "print(r4)"
   ]
  },
  {
   "cell_type": "code",
   "execution_count": 31,
   "id": "cd9d186e",
   "metadata": {},
   "outputs": [],
   "source": [
    "num1 = 2\n",
    "num2 = 5.3"
   ]
  },
  {
   "cell_type": "code",
   "execution_count": 32,
   "id": "73f91d64",
   "metadata": {},
   "outputs": [
    {
     "data": {
      "text/plain": [
       "2"
      ]
     },
     "execution_count": 32,
     "metadata": {},
     "output_type": "execute_result"
    }
   ],
   "source": [
    "num1"
   ]
  },
  {
   "cell_type": "code",
   "execution_count": 33,
   "id": "a313c1c8",
   "metadata": {},
   "outputs": [
    {
     "data": {
      "text/plain": [
       "5.3"
      ]
     },
     "execution_count": 33,
     "metadata": {},
     "output_type": "execute_result"
    }
   ],
   "source": [
    "num2"
   ]
  },
  {
   "cell_type": "code",
   "execution_count": 34,
   "id": "18c08135",
   "metadata": {},
   "outputs": [
    {
     "data": {
      "text/plain": [
       "False"
      ]
     },
     "execution_count": 34,
     "metadata": {},
     "output_type": "execute_result"
    }
   ],
   "source": [
    "num1 > num2"
   ]
  },
  {
   "cell_type": "code",
   "execution_count": 35,
   "id": "1ed5bf00",
   "metadata": {},
   "outputs": [],
   "source": [
    "num3 = 1"
   ]
  },
  {
   "cell_type": "code",
   "execution_count": 36,
   "id": "db31cbbc",
   "metadata": {},
   "outputs": [
    {
     "data": {
      "text/plain": [
       "True"
      ]
     },
     "execution_count": 36,
     "metadata": {},
     "output_type": "execute_result"
    }
   ],
   "source": [
    "(num1 < num2) & (num1 > num3)"
   ]
  },
  {
   "cell_type": "code",
   "execution_count": 37,
   "id": "09cb56ec",
   "metadata": {},
   "outputs": [
    {
     "name": "stdout",
     "output_type": "stream",
     "text": [
      "Введите имялонер\n",
      "Привет, лонер\n"
     ]
    }
   ],
   "source": [
    "name = input('Введите имя')\n",
    "print('Привет, ' + name)\n",
    "\n"
   ]
  },
  {
   "cell_type": "code",
   "execution_count": 39,
   "id": "7be988f8",
   "metadata": {},
   "outputs": [
    {
     "name": "stdout",
     "output_type": "stream",
     "text": [
      "Введите температуру в градусах Цельсия:23\n",
      "температура в градусах Фаренгейта 73.4\n"
     ]
    }
   ],
   "source": [
    "t1 = float(input('Введите температуру в градусах Цельсия:'))\n",
    "print('температура в градусах Фаренгейта', t1*1.8+32)"
   ]
  },
  {
   "cell_type": "code",
   "execution_count": 40,
   "id": "f458a28c",
   "metadata": {},
   "outputs": [
    {
     "name": "stdout",
     "output_type": "stream",
     "text": [
      "Число 1:2\n",
      "Число 2:3\n",
      "Max 3\n"
     ]
    }
   ],
   "source": [
    "x1 = int(input('Число 1:'))\n",
    "x2 = int(input('Число 2:'))\n",
    "max1 = (x1 > x2) * x1 + (x2 >= x1) * x2\n",
    "print('Max', max1)"
   ]
  },
  {
   "cell_type": "code",
   "execution_count": null,
   "id": "2beaf941",
   "metadata": {
    "scrolled": true
   },
   "outputs": [],
   "source": [
    "x = int(input('Число 1:'))\n",
    "y = int(input('Число 2:'))\n",
    "z = int(input('Число 3:'))\n",
    "if x > y :\n",
    "    if x > z :\n",
    "        print(x)\n",
    "    else :\n",
    "        print(z)\n",
    "else : \n",
    "    if y > z:\n",
    "        print(y)\n",
    "    else:\n",
    "        print(z)"
   ]
  },
  {
   "cell_type": "code",
   "execution_count": 1,
   "id": "aec28045",
   "metadata": {},
   "outputs": [
    {
     "name": "stdout",
     "output_type": "stream",
     "text": [
      "координата коня 1 по горизонтали: 2\n",
      "координата коня 1 по вертикали: 7\n",
      "координата коня 2 по горизонтали: 1\n",
      "координата коня 2 по вертикали: 1\n",
      "НЕА!\n"
     ]
    }
   ],
   "source": [
    "x1 = int(input('координата коня 1 по горизонтали: '))\n",
    "y1 = int(input('координата коня 1 по вертикали: '))\n",
    "x2 = int(input('координата коня 2 по горизонтали: '))\n",
    "y2 = int(input('координата коня 2 по вертикали: '))\n",
    "if (abs(x1-x2) == 2) and (abs(y1-y2) == 1):\n",
    "    print('кони бьются')\n",
    "elif (abs(x1-x2) == 1) and (abs(y1-y2) == 2):\n",
    "    print('кони бьются')\n",
    "else:\n",
    "    print('НЕА!')"
   ]
  },
  {
   "cell_type": "code",
   "execution_count": 2,
   "id": "9deae9ae",
   "metadata": {},
   "outputs": [
    {
     "name": "stdout",
     "output_type": "stream",
     "text": [
      "2\n",
      "6\n",
      "50\n"
     ]
    }
   ],
   "source": [
    "x = float(input())\n",
    "y = float(input())\n",
    "if x ** 2 + y ** 2 < 25:\n",
    "    print(100)\n",
    "elif x ** 2 + y ** 2 < 100:\n",
    "    print(50)\n",
    "elif x **2 + y ** 2 < 225:\n",
    "    print(25)\n",
    "else:\n",
    "    print('pass')"
   ]
  }
 ],
 "metadata": {
  "kernelspec": {
   "display_name": "Python 3 (ipykernel)",
   "language": "python",
   "name": "python3"
  },
  "language_info": {
   "codemirror_mode": {
    "name": "ipython",
    "version": 3
   },
   "file_extension": ".py",
   "mimetype": "text/x-python",
   "name": "python",
   "nbconvert_exporter": "python",
   "pygments_lexer": "ipython3",
   "version": "3.9.12"
  }
 },
 "nbformat": 4,
 "nbformat_minor": 5
}
